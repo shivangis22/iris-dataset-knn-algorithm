{
 "cells": [
  {
   "cell_type": "code",
   "execution_count": 1,
   "id": "c36f1006",
   "metadata": {},
   "outputs": [
    {
     "name": "stdout",
     "output_type": "stream",
     "text": [
      "5.1 3.5 1.4 0.2 Iris-setosa\n",
      "4.9 3.0 1.4 0.2 Iris-setosa\n",
      "4.7 3.2 1.3 0.2 Iris-setosa\n",
      "4.6 3.1 1.5 0.2 Iris-setosa\n",
      "5.0 3.6 1.4 0.2 Iris-setosa\n",
      "5.4 3.9 1.7 0.4 Iris-setosa\n",
      "4.6 3.4 1.4 0.3 Iris-setosa\n",
      "5.0 3.4 1.5 0.2 Iris-setosa\n",
      "4.4 2.9 1.4 0.2 Iris-setosa\n",
      "4.9 3.1 1.5 0.1 Iris-setosa\n",
      "5.4 3.7 1.5 0.2 Iris-setosa\n",
      "4.8 3.4 1.6 0.2 Iris-setosa\n",
      "4.8 3.0 1.4 0.1 Iris-setosa\n",
      "4.3 3.0 1.1 0.1 Iris-setosa\n",
      "5.8 4.0 1.2 0.2 Iris-setosa\n",
      "5.7 4.4 1.5 0.4 Iris-setosa\n",
      "5.4 3.9 1.3 0.4 Iris-setosa\n",
      "5.1 3.5 1.4 0.3 Iris-setosa\n",
      "5.7 3.8 1.7 0.3 Iris-setosa\n",
      "5.1 3.8 1.5 0.3 Iris-setosa\n",
      "5.4 3.4 1.7 0.2 Iris-setosa\n",
      "5.1 3.7 1.5 0.4 Iris-setosa\n",
      "4.6 3.6 1.0 0.2 Iris-setosa\n",
      "5.1 3.3 1.7 0.5 Iris-setosa\n",
      "4.8 3.4 1.9 0.2 Iris-setosa\n",
      "5.0 3.0 1.6 0.2 Iris-setosa\n",
      "5.0 3.4 1.6 0.4 Iris-setosa\n",
      "5.2 3.5 1.5 0.2 Iris-setosa\n",
      "5.2 3.4 1.4 0.2 Iris-setosa\n",
      "4.7 3.2 1.6 0.2 Iris-setosa\n",
      "4.8 3.1 1.6 0.2 Iris-setosa\n",
      "5.4 3.4 1.5 0.4 Iris-setosa\n",
      "5.2 4.1 1.5 0.1 Iris-setosa\n",
      "5.5 4.2 1.4 0.2 Iris-setosa\n",
      "4.9 3.1 1.5 0.1 Iris-setosa\n",
      "5.0 3.2 1.2 0.2 Iris-setosa\n",
      "5.5 3.5 1.3 0.2 Iris-setosa\n",
      "4.9 3.1 1.5 0.1 Iris-setosa\n",
      "4.4 3.0 1.3 0.2 Iris-setosa\n",
      "5.1 3.4 1.5 0.2 Iris-setosa\n",
      "5.0 3.5 1.3 0.3 Iris-setosa\n",
      "4.5 2.3 1.3 0.3 Iris-setosa\n",
      "4.4 3.2 1.3 0.2 Iris-setosa\n",
      "5.0 3.5 1.6 0.6 Iris-setosa\n",
      "5.1 3.8 1.9 0.4 Iris-setosa\n",
      "4.8 3.0 1.4 0.3 Iris-setosa\n",
      "5.1 3.8 1.6 0.2 Iris-setosa\n",
      "4.6 3.2 1.4 0.2 Iris-setosa\n",
      "5.3 3.7 1.5 0.2 Iris-setosa\n",
      "5.0 3.3 1.4 0.2 Iris-setosa\n",
      "7.0 3.2 4.7 1.4 Iris-versicolor\n",
      "6.4 3.2 4.5 1.5 Iris-versicolor\n",
      "6.9 3.1 4.9 1.5 Iris-versicolor\n",
      "5.5 2.3 4.0 1.3 Iris-versicolor\n",
      "6.5 2.8 4.6 1.5 Iris-versicolor\n",
      "5.7 2.8 4.5 1.3 Iris-versicolor\n",
      "6.3 3.3 4.7 1.6 Iris-versicolor\n",
      "4.9 2.4 3.3 1.0 Iris-versicolor\n",
      "6.6 2.9 4.6 1.3 Iris-versicolor\n",
      "5.2 2.7 3.9 1.4 Iris-versicolor\n",
      "5.0 2.0 3.5 1.0 Iris-versicolor\n",
      "5.9 3.0 4.2 1.5 Iris-versicolor\n",
      "6.0 2.2 4.0 1.0 Iris-versicolor\n",
      "6.1 2.9 4.7 1.4 Iris-versicolor\n",
      "5.6 2.9 3.6 1.3 Iris-versicolor\n",
      "6.7 3.1 4.4 1.4 Iris-versicolor\n",
      "5.6 3.0 4.5 1.5 Iris-versicolor\n",
      "5.8 2.7 4.1 1.0 Iris-versicolor\n",
      "6.2 2.2 4.5 1.5 Iris-versicolor\n",
      "5.6 2.5 3.9 1.1 Iris-versicolor\n",
      "5.9 3.2 4.8 1.8 Iris-versicolor\n",
      "6.1 2.8 4.0 1.3 Iris-versicolor\n",
      "6.3 2.5 4.9 1.5 Iris-versicolor\n",
      "6.1 2.8 4.7 1.2 Iris-versicolor\n",
      "6.4 2.9 4.3 1.3 Iris-versicolor\n",
      "6.6 3.0 4.4 1.4 Iris-versicolor\n",
      "6.8 2.8 4.8 1.4 Iris-versicolor\n",
      "6.7 3.0 5.0 1.7 Iris-versicolor\n",
      "6.0 2.9 4.5 1.5 Iris-versicolor\n",
      "5.7 2.6 3.5 1.0 Iris-versicolor\n",
      "5.5 2.4 3.8 1.1 Iris-versicolor\n",
      "5.5 2.4 3.7 1.0 Iris-versicolor\n",
      "5.8 2.7 3.9 1.2 Iris-versicolor\n",
      "6.0 2.7 5.1 1.6 Iris-versicolor\n",
      "5.4 3.0 4.5 1.5 Iris-versicolor\n",
      "6.0 3.4 4.5 1.6 Iris-versicolor\n",
      "6.7 3.1 4.7 1.5 Iris-versicolor\n",
      "6.3 2.3 4.4 1.3 Iris-versicolor\n",
      "5.6 3.0 4.1 1.3 Iris-versicolor\n",
      "5.5 2.5 4.0 1.3 Iris-versicolor\n",
      "5.5 2.6 4.4 1.2 Iris-versicolor\n",
      "6.1 3.0 4.6 1.4 Iris-versicolor\n",
      "5.8 2.6 4.0 1.2 Iris-versicolor\n",
      "5.0 2.3 3.3 1.0 Iris-versicolor\n",
      "5.6 2.7 4.2 1.3 Iris-versicolor\n",
      "5.7 3.0 4.2 1.2 Iris-versicolor\n",
      "5.7 2.9 4.2 1.3 Iris-versicolor\n",
      "6.2 2.9 4.3 1.3 Iris-versicolor\n",
      "5.1 2.5 3.0 1.1 Iris-versicolor\n",
      "5.7 2.8 4.1 1.3 Iris-versicolor\n",
      "6.3 3.3 6.0 2.5 Iris-virginica\n",
      "5.8 2.7 5.1 1.9 Iris-virginica\n",
      "7.1 3.0 5.9 2.1 Iris-virginica\n",
      "6.3 2.9 5.6 1.8 Iris-virginica\n",
      "6.5 3.0 5.8 2.2 Iris-virginica\n",
      "7.6 3.0 6.6 2.1 Iris-virginica\n",
      "4.9 2.5 4.5 1.7 Iris-virginica\n",
      "7.3 2.9 6.3 1.8 Iris-virginica\n",
      "6.7 2.5 5.8 1.8 Iris-virginica\n",
      "7.2 3.6 6.1 2.5 Iris-virginica\n",
      "6.5 3.2 5.1 2.0 Iris-virginica\n",
      "6.4 2.7 5.3 1.9 Iris-virginica\n",
      "6.8 3.0 5.5 2.1 Iris-virginica\n",
      "5.7 2.5 5.0 2.0 Iris-virginica\n",
      "5.8 2.8 5.1 2.4 Iris-virginica\n",
      "6.4 3.2 5.3 2.3 Iris-virginica\n",
      "6.5 3.0 5.5 1.8 Iris-virginica\n",
      "7.7 3.8 6.7 2.2 Iris-virginica\n",
      "7.7 2.6 6.9 2.3 Iris-virginica\n",
      "6.0 2.2 5.0 1.5 Iris-virginica\n",
      "6.9 3.2 5.7 2.3 Iris-virginica\n",
      "5.6 2.8 4.9 2.0 Iris-virginica\n",
      "7.7 2.8 6.7 2.0 Iris-virginica\n",
      "6.3 2.7 4.9 1.8 Iris-virginica\n",
      "6.7 3.3 5.7 2.1 Iris-virginica\n",
      "7.2 3.2 6.0 1.8 Iris-virginica\n",
      "6.2 2.8 4.8 1.8 Iris-virginica\n",
      "6.1 3.0 4.9 1.8 Iris-virginica\n",
      "6.4 2.8 5.6 2.1 Iris-virginica\n",
      "7.2 3.0 5.8 1.6 Iris-virginica\n",
      "7.4 2.8 6.1 1.9 Iris-virginica\n",
      "7.9 3.8 6.4 2.0 Iris-virginica\n",
      "6.4 2.8 5.6 2.2 Iris-virginica\n",
      "6.3 2.8 5.1 1.5 Iris-virginica\n",
      "6.1 2.6 5.6 1.4 Iris-virginica\n",
      "7.7 3.0 6.1 2.3 Iris-virginica\n",
      "6.3 3.4 5.6 2.4 Iris-virginica\n",
      "6.4 3.1 5.5 1.8 Iris-virginica\n",
      "6.0 3.0 4.8 1.8 Iris-virginica\n",
      "6.9 3.1 5.4 2.1 Iris-virginica\n",
      "6.7 3.1 5.6 2.4 Iris-virginica\n",
      "6.9 3.1 5.1 2.3 Iris-virginica\n",
      "5.8 2.7 5.1 1.9 Iris-virginica\n",
      "6.8 3.2 5.9 2.3 Iris-virginica\n",
      "6.7 3.3 5.7 2.5 Iris-virginica\n",
      "6.7 3.0 5.2 2.3 Iris-virginica\n",
      "6.3 2.5 5.0 1.9 Iris-virginica\n",
      "6.5 3.0 5.2 2.0 Iris-virginica\n",
      "6.2 3.4 5.4 2.3 Iris-virginica\n",
      "5.9 3.0 5.1 1.8 Iris-virginica\n",
      "\n"
     ]
    }
   ],
   "source": [
    "import csv\n",
    "with open(r\"iris.data\", 'rt') as csvfile:\n",
    "    lines= csv.reader(csvfile)\n",
    "\n",
    "    for row in lines:\n",
    "#         print(row)\n",
    "        print (' '.join(row))"
   ]
  },
  {
   "cell_type": "code",
   "execution_count": 2,
   "id": "88050426",
   "metadata": {},
   "outputs": [],
   "source": [
    "import csv\n",
    "import random\n",
    "def loaddataset(filename, split, trainingSet= [], testSet= []):\n",
    "    with open(filename, 'r') as csvfile:\n",
    "        lines= csv.reader(csvfile)\n",
    "        dataset= list(lines)\n",
    "        \n",
    "        for x in range(len(dataset)-1):\n",
    "            for y in range (4):\n",
    "                dataset[x][y]= float(dataset[x][y])\n",
    "            if random.random() < split:\n",
    "                trainingSet.append(dataset[x])\n",
    "            else:\n",
    "                testSet.append(dataset[x])\n",
    "        "
   ]
  },
  {
   "cell_type": "code",
   "execution_count": 3,
   "id": "7877a3ed",
   "metadata": {},
   "outputs": [
    {
     "name": "stdout",
     "output_type": "stream",
     "text": [
      "train:100\n",
      "test:50\n"
     ]
    }
   ],
   "source": [
    "trainingSet= []\n",
    "testSet= []\n",
    "loaddataset(r\"iris.data\", 0.66, trainingSet, testSet)\n",
    "print(\"train:\" + repr(len(trainingSet)))\n",
    "print(\"test:\" + repr(len(testSet)))"
   ]
  },
  {
   "cell_type": "code",
   "execution_count": 4,
   "id": "3f2f0f62",
   "metadata": {},
   "outputs": [],
   "source": [
    "import math\n",
    "def euclideanDist(instance1, instance2, length):\n",
    "    distance=0\n",
    "    for x in range(length):\n",
    "        distance+= pow((instance1[x]- instance2[x]), 2)\n",
    "    return math.sqrt(distance)"
   ]
  },
  {
   "cell_type": "code",
   "execution_count": 5,
   "id": "22f8f236",
   "metadata": {},
   "outputs": [
    {
     "name": "stdout",
     "output_type": "stream",
     "text": [
      "Distance: 3.4641016151377544\n"
     ]
    }
   ],
   "source": [
    "data1= [2,2,2,'a']\n",
    "data2= [4,4,4, 'b']\n",
    "distance= euclideanDist( data1, data2, 3)\n",
    "print('Distance: '+ repr(distance))\n"
   ]
  },
  {
   "cell_type": "code",
   "execution_count": 6,
   "id": "9443c5c6",
   "metadata": {},
   "outputs": [],
   "source": [
    "import operator\n",
    "def getNeighbours(trainingSet, testInstance, k):\n",
    "    distances= []\n",
    "    length= len(testInstance)- 1\n",
    "    for x in range(len(trainingSet)):\n",
    "        dist= euclideanDist(testInstance, trainingSet[x], length)\n",
    "        distances.append((trainingSet[x], dist))\n",
    "    distances.sort(key= operator.itemgetter(1))\n",
    "    neighbours= []\n",
    "    for x in range (k):\n",
    "        neighbours.append((distances[x][0]))\n",
    "    return neighbours"
   ]
  },
  {
   "cell_type": "code",
   "execution_count": 7,
   "id": "37865603",
   "metadata": {},
   "outputs": [
    {
     "name": "stdout",
     "output_type": "stream",
     "text": [
      "[[4, 4, 4, 'b']]\n"
     ]
    }
   ],
   "source": [
    "trainSet= [[2,2,2, 'a'], [4,4,4, 'b']]\n",
    "testInstance= [5,5, 5]\n",
    "k=1\n",
    "neighbours= getNeighbours(trainSet, testInstance, k)\n",
    "print(neighbours)"
   ]
  },
  {
   "cell_type": "code",
   "execution_count": 8,
   "id": "90103c72",
   "metadata": {},
   "outputs": [],
   "source": [
    "import operator\n",
    "def getResponse(neighbour):\n",
    "    classVotes= {}\n",
    "    for x in range(len(neighbours)):\n",
    "        response= neighbours[x][-1]\n",
    "        if response in classVotes:\n",
    "            classVotes[response] += 1\n",
    "        else:\n",
    "            classVotes[response] = 1\n",
    "    sortedVotes= sorted(classVotes.items(), key= operator.itemgetter(1), reverse= True)\n",
    "    return sortedVotes[0][0]\n"
   ]
  },
  {
   "cell_type": "code",
   "execution_count": 9,
   "id": "eb97ccfe",
   "metadata": {},
   "outputs": [
    {
     "name": "stdout",
     "output_type": "stream",
     "text": [
      "a\n"
     ]
    }
   ],
   "source": [
    "neighbours= [[1,1,1, 'a'], [2,2,2, 'b'], [3,3,3, 'c'], [4,4,4, 'd']]\n",
    "response= getResponse(neighbours)\n",
    "print(response)"
   ]
  },
  {
   "cell_type": "code",
   "execution_count": 10,
   "id": "a22a501c",
   "metadata": {},
   "outputs": [],
   "source": [
    "def getAccuracy(testSet, predictions):\n",
    "    correct= 0\n",
    "    for x in range(len(testSet)):\n",
    "        if testSet[x][-1] == predictions[x]:\n",
    "            correct+=1\n",
    "    return(correct/ float(len(testSet)) *100.0)\n",
    "\n"
   ]
  },
  {
   "cell_type": "code",
   "execution_count": 11,
   "id": "fd35162b",
   "metadata": {
    "scrolled": true
   },
   "outputs": [
    {
     "name": "stdout",
     "output_type": "stream",
     "text": [
      "train:100\n",
      "test:50\n",
      "Predicted: 'Iris-setosa'Actual: 'Iris-setosa'\n",
      "Predicted: 'Iris-setosa'Actual: 'Iris-setosa'\n",
      "Predicted: 'Iris-setosa'Actual: 'Iris-setosa'\n",
      "Predicted: 'Iris-setosa'Actual: 'Iris-setosa'\n",
      "Predicted: 'Iris-setosa'Actual: 'Iris-setosa'\n",
      "Predicted: 'Iris-setosa'Actual: 'Iris-setosa'\n",
      "Predicted: 'Iris-setosa'Actual: 'Iris-setosa'\n",
      "Predicted: 'Iris-setosa'Actual: 'Iris-setosa'\n",
      "Predicted: 'Iris-setosa'Actual: 'Iris-setosa'\n",
      "Predicted: 'Iris-setosa'Actual: 'Iris-setosa'\n",
      "Predicted: 'Iris-setosa'Actual: 'Iris-setosa'\n",
      "Predicted: 'Iris-setosa'Actual: 'Iris-setosa'\n",
      "Predicted: 'Iris-setosa'Actual: 'Iris-setosa'\n",
      "Predicted: 'Iris-setosa'Actual: 'Iris-setosa'\n",
      "Predicted: 'Iris-setosa'Actual: 'Iris-setosa'\n",
      "Predicted: 'Iris-setosa'Actual: 'Iris-setosa'\n",
      "Predicted: 'Iris-setosa'Actual: 'Iris-setosa'\n",
      "Predicted: 'Iris-setosa'Actual: 'Iris-setosa'\n",
      "Predicted: 'Iris-setosa'Actual: 'Iris-setosa'\n",
      "Predicted: 'Iris-setosa'Actual: 'Iris-setosa'\n",
      "Predicted: 'Iris-setosa'Actual: 'Iris-setosa'\n",
      "Predicted: 'Iris-versicolor'Actual: 'Iris-versicolor'\n",
      "Predicted: 'Iris-versicolor'Actual: 'Iris-versicolor'\n",
      "Predicted: 'Iris-versicolor'Actual: 'Iris-versicolor'\n",
      "Predicted: 'Iris-versicolor'Actual: 'Iris-versicolor'\n",
      "Predicted: 'Iris-versicolor'Actual: 'Iris-versicolor'\n",
      "Predicted: 'Iris-versicolor'Actual: 'Iris-versicolor'\n",
      "Predicted: 'Iris-versicolor'Actual: 'Iris-versicolor'\n",
      "Predicted: 'Iris-versicolor'Actual: 'Iris-versicolor'\n",
      "Predicted: 'Iris-versicolor'Actual: 'Iris-versicolor'\n",
      "Predicted: 'Iris-versicolor'Actual: 'Iris-versicolor'\n",
      "Predicted: 'Iris-versicolor'Actual: 'Iris-versicolor'\n",
      "Predicted: 'Iris-versicolor'Actual: 'Iris-versicolor'\n",
      "Predicted: 'Iris-virginica'Actual: 'Iris-virginica'\n",
      "Predicted: 'Iris-virginica'Actual: 'Iris-virginica'\n",
      "Predicted: 'Iris-virginica'Actual: 'Iris-virginica'\n",
      "Predicted: 'Iris-versicolor'Actual: 'Iris-virginica'\n",
      "Predicted: 'Iris-virginica'Actual: 'Iris-virginica'\n",
      "Predicted: 'Iris-virginica'Actual: 'Iris-virginica'\n",
      "Predicted: 'Iris-virginica'Actual: 'Iris-virginica'\n",
      "Predicted: 'Iris-virginica'Actual: 'Iris-virginica'\n",
      "Predicted: 'Iris-virginica'Actual: 'Iris-virginica'\n",
      "Predicted: 'Iris-virginica'Actual: 'Iris-virginica'\n",
      "Predicted: 'Iris-virginica'Actual: 'Iris-virginica'\n",
      "Predicted: 'Iris-virginica'Actual: 'Iris-virginica'\n",
      "Predicted: 'Iris-versicolor'Actual: 'Iris-virginica'\n",
      "Predicted: 'Iris-virginica'Actual: 'Iris-virginica'\n",
      "Predicted: 'Iris-virginica'Actual: 'Iris-virginica'\n",
      "Predicted: 'Iris-virginica'Actual: 'Iris-virginica'\n",
      "Predicted: 'Iris-virginica'Actual: 'Iris-virginica'\n",
      "Accuracy: 96.0%\n"
     ]
    }
   ],
   "source": [
    "\n",
    "trainingSet= []\n",
    "testSet= []\n",
    "loaddataset(r\"iris.data\", 0.67, trainingSet, testSet)\n",
    "print(\"train:\" + repr(len(trainingSet)))\n",
    "print(\"test:\" + repr(len(testSet)))\n",
    "    \n",
    "predictions=[]\n",
    "k=2\n",
    "for x in range(len(testSet)):\n",
    "    neighbours= getNeighbours(trainingSet, testSet[x], k)\n",
    "    result= getResponse(neighbours)\n",
    "    predictions.append(result)\n",
    "    print(\"Predicted: \"+ repr(result) + \"Actual: \"+ repr(testSet[x][-1]))\n",
    "accuracy = getAccuracy( testSet, predictions)\n",
    "print(\"Accuracy: \"+ str(accuracy)+ \"%\")"
   ]
  },
  {
   "cell_type": "code",
   "execution_count": null,
   "id": "9bff5b33",
   "metadata": {},
   "outputs": [],
   "source": []
  }
 ],
 "metadata": {
  "interpreter": {
   "hash": "773126b3fab986ced1c355e7d67511472bb7d47c0c35f39e7a9d0bf3578052b9"
  },
  "kernelspec": {
   "display_name": "Python 3.9.7",
   "language": "python",
   "name": "python3"
  },
  "language_info": {
   "codemirror_mode": {
    "name": "ipython",
    "version": 3
   },
   "file_extension": ".py",
   "mimetype": "text/x-python",
   "name": "python",
   "nbconvert_exporter": "python",
   "pygments_lexer": "ipython3",
   "version": "3.9.7"
  }
 },
 "nbformat": 4,
 "nbformat_minor": 5
}
